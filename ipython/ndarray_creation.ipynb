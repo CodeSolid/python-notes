{
 "metadata": {
  "name": "",
  "signature": "sha256:5daa521dbd626eb5aff1e7be07261f39dcf915aa474cc815aff08f8e9726c641"
 },
 "nbformat": 3,
 "nbformat_minor": 0,
 "worksheets": [
  {
   "cells": [
    {
     "cell_type": "markdown",
     "metadata": {},
     "source": [
      "# Creating numpy ndarrays\n",
      "Numpy's ndarrays support a variety of methods for creating arrays.  This notebook shares some of these methods along with some of the gotchas I encountered along the way.\n",
      "\n",
      "First we import numpy in the standard way:"
     ]
    },
    {
     "cell_type": "code",
     "collapsed": false,
     "input": [
      "import numpy as np"
     ],
     "language": "python",
     "metadata": {},
     "outputs": [],
     "prompt_number": 1
    },
    {
     "cell_type": "code",
     "collapsed": false,
     "input": [
      "# To get an array from a list, make sure you do this:\n",
      "five = np.array([1,2,3,4,5])\n",
      "five"
     ],
     "language": "python",
     "metadata": {},
     "outputs": [
      {
       "metadata": {},
       "output_type": "pyout",
       "prompt_number": 2,
       "text": [
        "array([1, 2, 3, 4, 5])"
       ]
      }
     ],
     "prompt_number": 2
    },
    {
     "cell_type": "markdown",
     "metadata": {},
     "source": [
      "If you use:\n",
      "wrong = np.*ndarray* instead, you'll end up with a list with five dimensions of length 1,2,3,4,5\n",
      "This is likely not what you wanted here and is a low-level method that may initialize to garbage values. You should likely use zeros or empty instead to initialize the list as you want it.  For more see np.ndarray?, below."
     ]
    },
    {
     "cell_type": "code",
     "collapsed": false,
     "input": [
      "np.zeros?"
     ],
     "language": "python",
     "metadata": {},
     "outputs": [],
     "prompt_number": 3
    },
    {
     "cell_type": "code",
     "collapsed": false,
     "input": [
      "# So again, this is wrong:\n",
      "wrong = np.ndarray([1,2,3,4,5])\n",
      "wrong"
     ],
     "language": "python",
     "metadata": {},
     "outputs": [
      {
       "metadata": {},
       "output_type": "pyout",
       "prompt_number": 4,
       "text": [
        "array([[[[[ -2.31584178e+077,  -2.31584178e+077,   4.74303020e-322,\n",
        "            -1.02771166e+256,   2.14682204e-314],\n",
        "          [  2.12357512e-314,   0.00000000e+000,   0.00000000e+000,\n",
        "             0.00000000e+000,   0.00000000e+000],\n",
        "          [  0.00000000e+000,   0.00000000e+000,   1.74951623e-060,\n",
        "             2.16934453e-314,   2.12357516e-314],\n",
        "          [  0.00000000e+000,   0.00000000e+000,   0.00000000e+000,\n",
        "             1.74895818e-060,   2.16934520e-314]],\n",
        "\n",
        "         [[  2.12357518e-314,   0.00000000e+000,   0.00000000e+000,\n",
        "             0.00000000e+000,   0.00000000e+000],\n",
        "          [  0.00000000e+000,   0.00000000e+000,   0.00000000e+000,\n",
        "             0.00000000e+000,   0.00000000e+000],\n",
        "          [  1.75011456e-060,   2.14696021e-314,   2.12357513e-314,\n",
        "             0.00000000e+000,   0.00000000e+000],\n",
        "          [  0.00000000e+000,   0.00000000e+000,   0.00000000e+000,\n",
        "             0.00000000e+000,   0.00000000e+000]],\n",
        "\n",
        "         [[  0.00000000e+000,   0.00000000e+000,   0.00000000e+000,\n",
        "             0.00000000e+000,   0.00000000e+000],\n",
        "          [  0.00000000e+000,   0.00000000e+000,   0.00000000e+000,\n",
        "             0.00000000e+000,   0.00000000e+000],\n",
        "          [  0.00000000e+000,   0.00000000e+000,   0.00000000e+000,\n",
        "             0.00000000e+000,   0.00000000e+000],\n",
        "          [  0.00000000e+000,   0.00000000e+000,   1.74986441e-060,\n",
        "             2.16934435e-314,   2.12357514e-314]]],\n",
        "\n",
        "\n",
        "        [[[  0.00000000e+000,   0.00000000e+000,   0.00000000e+000,\n",
        "             1.74926715e-060,   2.16934496e-314],\n",
        "          [  2.12357517e-314,   0.00000000e+000,   0.00000000e+000,\n",
        "             0.00000000e+000,   0.00000000e+000],\n",
        "          [  0.00000000e+000,   0.00000000e+000,   0.00000000e+000,\n",
        "             0.00000000e+000,   0.00000000e+000],\n",
        "          [  0.00000000e+000,   0.00000000e+000,   0.00000000e+000,\n",
        "             0.00000000e+000,   0.00000000e+000]],\n",
        "\n",
        "         [[  0.00000000e+000,   0.00000000e+000,   0.00000000e+000,\n",
        "             0.00000000e+000,   0.00000000e+000],\n",
        "          [  0.00000000e+000,   0.00000000e+000,   0.00000000e+000,\n",
        "             0.00000000e+000,   0.00000000e+000],\n",
        "          [  0.00000000e+000,   0.00000000e+000,   0.00000000e+000,\n",
        "             0.00000000e+000,   0.00000000e+000],\n",
        "          [  0.00000000e+000,  -2.31584178e+077,  -2.31584178e+077,\n",
        "             2.37151510e-322,   0.00000000e+000]],\n",
        "\n",
        "         [[  0.00000000e+000,   0.00000000e+000,   0.00000000e+000,\n",
        "             0.00000000e+000,   0.00000000e+000],\n",
        "          [  0.00000000e+000,   0.00000000e+000,   0.00000000e+000,\n",
        "             7.59612810e-172,   2.12452728e-314],\n",
        "          [  2.12276837e-314,   0.00000000e+000,   0.00000000e+000,\n",
        "             0.00000000e+000,   0.00000000e+000],\n",
        "          [  0.00000000e+000,   0.00000000e+000,  -4.73380309e-240,\n",
        "             2.12330899e-314,   2.12509746e-314]]]]])"
       ]
      }
     ],
     "prompt_number": 4
    },
    {
     "cell_type": "code",
     "collapsed": false,
     "input": [
      "# Better:\n",
      "\n",
      "twoByThree = np.zeros([2,3])\n",
      "twoByThree"
     ],
     "language": "python",
     "metadata": {},
     "outputs": [
      {
       "metadata": {},
       "output_type": "pyout",
       "prompt_number": 5,
       "text": [
        "array([[ 0.,  0.,  0.],\n",
        "       [ 0.,  0.,  0.]])"
       ]
      }
     ],
     "prompt_number": 5
    },
    {
     "cell_type": "code",
     "collapsed": false,
     "input": [
      "# Also good:\n",
      "\n",
      "empty = np.empty([2,3])\n",
      "empty"
     ],
     "language": "python",
     "metadata": {},
     "outputs": [
      {
       "metadata": {},
       "output_type": "pyout",
       "prompt_number": 6,
       "text": [
        "array([[ 0.,  0.,  0.],\n",
        "       [ 0.,  0.,  0.]])"
       ]
      }
     ],
     "prompt_number": 6
    },
    {
     "cell_type": "code",
     "collapsed": false,
     "input": [
      "# For ones:"
     ],
     "language": "python",
     "metadata": {},
     "outputs": [],
     "prompt_number": 7
    },
    {
     "cell_type": "code",
     "collapsed": false,
     "input": [
      "oneDimensionalArrayOfTenOnes = np.ones(10)\n",
      "oneDimensionalArrayOfTenOnes"
     ],
     "language": "python",
     "metadata": {},
     "outputs": [
      {
       "metadata": {},
       "output_type": "pyout",
       "prompt_number": 8,
       "text": [
        "array([ 1.,  1.,  1.,  1.,  1.,  1.,  1.,  1.,  1.,  1.])"
       ]
      }
     ],
     "prompt_number": 8
    },
    {
     "cell_type": "code",
     "collapsed": false,
     "input": [
      "# Make those fives, please, I need more money\n",
      "fives = oneDimensionalArrayOfTenOnes * 5\n",
      "fives"
     ],
     "language": "python",
     "metadata": {},
     "outputs": [
      {
       "metadata": {},
       "output_type": "pyout",
       "prompt_number": 9,
       "text": [
        "array([ 5.,  5.,  5.,  5.,  5.,  5.,  5.,  5.,  5.,  5.])"
       ]
      }
     ],
     "prompt_number": 9
    },
    {
     "cell_type": "markdown",
     "metadata": {},
     "source": [
      "# Non-number arrays, and \"_like\" suffix"
     ]
    },
    {
     "cell_type": "code",
     "collapsed": false,
     "input": [
      "emptyStooges = np.empty(3, str)\n",
      "emptyStooges"
     ],
     "language": "python",
     "metadata": {},
     "outputs": [
      {
       "metadata": {},
       "output_type": "pyout",
       "prompt_number": 32,
       "text": [
        "array(['', '', ''], \n",
        "      dtype='|S1')"
       ]
      }
     ],
     "prompt_number": 32
    },
    {
     "cell_type": "code",
     "collapsed": false,
     "input": [
      "emptyStooges.shape"
     ],
     "language": "python",
     "metadata": {},
     "outputs": [
      {
       "metadata": {},
       "output_type": "pyout",
       "prompt_number": 33,
       "text": [
        "(3,)"
       ]
      }
     ],
     "prompt_number": 33
    },
    {
     "cell_type": "markdown",
     "metadata": {},
     "source": [
      "# Cautionary tale of strings\n",
      "This doesn't work as you'd expect! (until you think about it for a minute -- fixed length)  See [this StackOverflow answer](http://stackoverflow.com/questions/14639496/python-numpy-array-of-arbitrary-length-strings) for some insights."
     ]
    },
    {
     "cell_type": "code",
     "collapsed": false,
     "input": [
      "stooges = np.empty(3,str)\n",
      "stooges[0] = \"Moe\"\n",
      "stooges"
     ],
     "language": "python",
     "metadata": {},
     "outputs": [
      {
       "metadata": {},
       "output_type": "pyout",
       "prompt_number": 43,
       "text": [
        "array(['M', '', ''], \n",
        "      dtype='|S1')"
       ]
      }
     ],
     "prompt_number": 43
    },
    {
     "cell_type": "markdown",
     "metadata": {},
     "source": [
      "Applying the fix from the last section, we get the correct behavior if we use object or dtype='object' as the type"
     ]
    },
    {
     "cell_type": "code",
     "collapsed": false,
     "input": [
      "stoogeObjects = np.empty(3,object)\n",
      "stoogeObjects[0] = \"Moe\"\n",
      "stoogeObjects"
     ],
     "language": "python",
     "metadata": {},
     "outputs": [
      {
       "metadata": {},
       "output_type": "pyout",
       "prompt_number": 45,
       "text": [
        "array(['Moe', None, None], dtype=object)"
       ]
      }
     ],
     "prompt_number": 45
    },
    {
     "cell_type": "code",
     "collapsed": false,
     "input": [
      "emptyStooges2 = np.empty_like(emptyStooges, str)\n",
      "emptyStooges2"
     ],
     "language": "python",
     "metadata": {},
     "outputs": [
      {
       "metadata": {},
       "output_type": "pyout",
       "prompt_number": 34,
       "text": [
        "array(['', '', ''], \n",
        "      dtype='|S1')"
       ]
      }
     ],
     "prompt_number": 34
    },
    {
     "cell_type": "code",
     "collapsed": false,
     "input": [
      "So trying the S"
     ],
     "language": "python",
     "metadata": {},
     "outputs": []
    },
    {
     "cell_type": "code",
     "collapsed": false,
     "input": [
      "# This time we copy values?\n",
      "emptyStooges3 = np.copy(emptyStooges)\n",
      "emptyStooges3"
     ],
     "language": "python",
     "metadata": {},
     "outputs": [
      {
       "metadata": {},
       "output_type": "pyout",
       "prompt_number": 31,
       "text": [
        "array(['', '', ''], \n",
        "      dtype='|S1')"
       ]
      }
     ],
     "prompt_number": 31
    },
    {
     "cell_type": "code",
     "collapsed": false,
     "input": [
      "emptyStooges2.shape"
     ],
     "language": "python",
     "metadata": {},
     "outputs": [
      {
       "metadata": {},
       "output_type": "pyout",
       "prompt_number": 26,
       "text": [
        "(1,)"
       ]
      }
     ],
     "prompt_number": 26
    },
    {
     "cell_type": "code",
     "collapsed": false,
     "input": [
      "np.empty?\n",
      "np.empty_like?"
     ],
     "language": "python",
     "metadata": {},
     "outputs": [],
     "prompt_number": 21
    },
    {
     "cell_type": "markdown",
     "metadata": {},
     "source": [
      "##Python ranges, standard and ndarray style"
     ]
    },
    {
     "cell_type": "code",
     "collapsed": false,
     "input": [
      "# Range 2-9, (excludes last value)\n",
      "alist = range(2,10)\n",
      "alist"
     ],
     "language": "python",
     "metadata": {},
     "outputs": [
      {
       "metadata": {},
       "output_type": "pyout",
       "prompt_number": 10,
       "text": [
        "[2, 3, 4, 5, 6, 7, 8, 9]"
       ]
      }
     ],
     "prompt_number": 10
    },
    {
     "cell_type": "code",
     "collapsed": false,
     "input": [
      "# Range 0-9\n",
      "alist2 = range(10)\n",
      "alist2"
     ],
     "language": "python",
     "metadata": {},
     "outputs": [
      {
       "metadata": {},
       "output_type": "pyout",
       "prompt_number": 11,
       "text": [
        "[0, 1, 2, 3, 4, 5, 6, 7, 8, 9]"
       ]
      }
     ],
     "prompt_number": 11
    },
    {
     "cell_type": "code",
     "collapsed": false,
     "input": [
      "# Numpy version arange behaves similaryly,\n",
      "# 2 two through 9:\n",
      "anArray = np.arange(2,10)\n",
      "anArray"
     ],
     "language": "python",
     "metadata": {},
     "outputs": [
      {
       "metadata": {},
       "output_type": "pyout",
       "prompt_number": 12,
       "text": [
        "array([2, 3, 4, 5, 6, 7, 8, 9])"
       ]
      }
     ],
     "prompt_number": 12
    },
    {
     "cell_type": "code",
     "collapsed": false,
     "input": [
      "# 0 through 9:\n",
      "anArray2 = np.arange(10)\n",
      "anArray2"
     ],
     "language": "python",
     "metadata": {},
     "outputs": [
      {
       "metadata": {},
       "output_type": "pyout",
       "prompt_number": 13,
       "text": [
        "array([0, 1, 2, 3, 4, 5, 6, 7, 8, 9])"
       ]
      }
     ],
     "prompt_number": 13
    },
    {
     "cell_type": "code",
     "collapsed": false,
     "input": [
      "# And sure enough, it's a numpy\n",
      "type(anArray2)"
     ],
     "language": "python",
     "metadata": {},
     "outputs": [
      {
       "metadata": {},
       "output_type": "pyout",
       "prompt_number": 53,
       "text": [
        "numpy.ndarray"
       ]
      }
     ],
     "prompt_number": 53
    },
    {
     "cell_type": "code",
     "collapsed": false,
     "input": [
      "%connect_info"
     ],
     "language": "python",
     "metadata": {},
     "outputs": [
      {
       "output_type": "stream",
       "stream": "stdout",
       "text": [
        "{\n",
        "  \"stdin_port\": 57159, \n",
        "  \"ip\": \"127.0.0.1\", \n",
        "  \"control_port\": 57160, \n",
        "  \"hb_port\": 57161, \n",
        "  \"signature_scheme\": \"hmac-sha256\", \n",
        "  \"key\": \"68065c01-1891-4c3a-9630-5a67bf73d031\", \n",
        "  \"shell_port\": 57157, \n",
        "  \"transport\": \"tcp\", \n",
        "  \"iopub_port\": 57158\n",
        "}\n",
        "\n",
        "Paste the above JSON into a file, and connect with:\n",
        "    $> ipython <app> --existing <file>\n",
        "or, if you are local, you can connect with just:\n",
        "    $> ipython <app> --existing kernel-1f00f5e6-4c90-4f39-bb23-7e6ec63d5d71.json \n",
        "or even just:\n",
        "    $> ipython <app> --existing \n",
        "if this is the most recent IPython session you have started.\n"
       ]
      }
     ],
     "prompt_number": 50
    }
   ],
   "metadata": {}
  }
 ]
}