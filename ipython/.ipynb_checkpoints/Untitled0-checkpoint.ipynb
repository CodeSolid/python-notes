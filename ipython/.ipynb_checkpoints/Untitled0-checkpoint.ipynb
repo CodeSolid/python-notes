{
 "metadata": {
  "name": "",
  "signature": "sha256:0340a35572adc33506eb1a82e7123b15743e201dda440832588089e8ad945983"
 },
 "nbformat": 3,
 "nbformat_minor": 0,
 "worksheets": [
  {
   "cells": [
    {
     "cell_type": "code",
     "collapsed": false,
     "input": [
      "from pandas.io.html import read_html"
     ],
     "language": "python",
     "metadata": {},
     "outputs": [],
     "prompt_number": 1
    },
    {
     "cell_type": "code",
     "collapsed": false,
     "input": [
      "dfs = read_html('http://www.fdic.gov/bank/individual/failed/banklist.html')"
     ],
     "language": "python",
     "metadata": {},
     "outputs": [],
     "prompt_number": 4
    },
    {
     "cell_type": "code",
     "collapsed": false,
     "input": [
      "dfs"
     ],
     "language": "python",
     "metadata": {},
     "outputs": [
      {
       "metadata": {},
       "output_type": "pyout",
       "prompt_number": 5,
       "text": [
        "[                                             Bank Name             City  ST  \\\n",
        " 0                                 Doral BankEn Espanol         San Juan  PR   \n",
        " 1                    Capitol City Bank & Trust Company          Atlanta  GA   \n",
        " 2                              Highland Community Bank          Chicago  IL   \n",
        " 3                     First National Bank of Crestview        Crestview  FL   \n",
        " 4                                   Northern Star Bank          Mankato  MN   \n",
        " 5               Frontier Bank, FSB D/B/A El Paseo Bank      Palm Desert  CA   \n",
        " 6                The National Republic Bank of Chicago          Chicago  IL   \n",
        " 7                                       NBRS Financial       Rising Sun  MD   \n",
        " 8                                GreenChoice Bank, fsb          Chicago  IL   \n",
        " 9                             Eastside Commercial Bank          Conyers  GA   \n",
        " 10                              The Freedom State Bank          Freedom  OK   \n",
        " 11                                         Valley Bank  Fort Lauderdale  FL   \n",
        " 12                                         Valley Bank           Moline  IL   \n",
        " 13                         Slavie Federal Savings Bank          Bel Air  MD   \n",
        " 14                               Columbia Savings Bank       Cincinnati  OH   \n",
        " 15                        AztecAmerica Bank En Espanol           Berwyn  IL   \n",
        " 16                               Allendale County Bank          Fairfax  SC   \n",
        " 17                                  Vantage Point Bank          Horsham  PA   \n",
        " 18               Millennium Bank, National Association         Sterling  VA   \n",
        " 19                                        Syringa Bank            Boise  ID   \n",
        " 20                                   The Bank of Union          El Reno  OK   \n",
        " 21                                DuPage National Bank     West Chicago  IL   \n",
        " 22          Texas Community Bank, National Association    The Woodlands  TX   \n",
        " 23                              Bank of Jackson County       Graceville  FL   \n",
        " 24   First National Bank also operating as The  Nat...         Edinburg  TX   \n",
        " 25                                The Community's Bank       Bridgeport  CT   \n",
        " 26                             Sunrise Bank of Arizona          Phoenix  AZ   \n",
        " 27                                Community South Bank          Parsons  TN   \n",
        " 28                                      Bank of Wausau           Wausau  WI   \n",
        " 29   First Community Bank of Southwest Florida (als...       Fort Myers  FL   \n",
        " ..                                                 ...              ...  ..   \n",
        " 508                                  ANB Financial, NA      Bentonville  AR   \n",
        " 509                                          Hume Bank             Hume  MO   \n",
        " 510                             Douglass National Bank      Kansas City  MO   \n",
        " 511                                  Miami Valley Bank         Lakeview  OH   \n",
        " 512                                            NetBank       Alpharetta  GA   \n",
        " 513                          Metropolitan Savings Bank       Pittsburgh  PA   \n",
        " 514                                    Bank of Ephraim          Ephraim  UT   \n",
        " 515                                      Reliance Bank     White Plains  NY   \n",
        " 516              Guaranty National Bank of Tallahassee      Tallahassee  FL   \n",
        " 517                                Dollar Savings Bank           Newark  NJ   \n",
        " 518                               Pulaski Savings Bank     Philadelphia  PA   \n",
        " 519              First National Bank of Blanchardville   Blanchardville  WI   \n",
        " 520                              Southern Pacific Bank         Torrance  CA   \n",
        " 521                        Farmers Bank of Cheneyville      Cheneyville  LA   \n",
        " 522                                      Bank of Alamo            Alamo  TN   \n",
        " 523               AmTrade International BankEn Espanol          Atlanta  GA   \n",
        " 524                     Universal Federal Savings Bank          Chicago  IL   \n",
        " 525                       Connecticut Bank of Commerce         Stamford  CT   \n",
        " 526                                   New Century Bank  Shelby Township  MI   \n",
        " 527                              Net 1st National Bank       Boca Raton  FL   \n",
        " 528                                       NextBank, NA          Phoenix  AZ   \n",
        " 529                           Oakwood Deposit Bank Co.          Oakwood  OH   \n",
        " 530                              Bank of Sierra Blanca    Sierra Blanca  TX   \n",
        " 531                        Hamilton Bank, NAEn Espanol            Miami  FL   \n",
        " 532                             Sinclair National Bank         Gravette  AR   \n",
        " 533                                 Superior Bank, FSB         Hinsdale  IL   \n",
        " 534                                Malta National Bank            Malta  OH   \n",
        " 535                    First Alliance Bank & Trust Co.       Manchester  NH   \n",
        " 536                  National State Bank of Metropolis       Metropolis  IL   \n",
        " 537                                   Bank of Honolulu         Honolulu  HI   \n",
        " \n",
        "       CERT                      Acquiring Institution Closing Date  \\\n",
        " 0    32102               Banco Popular de Puerto Rico   2015-02-27   \n",
        " 1    33938        First-Citizens Bank & Trust Company   2015-02-13   \n",
        " 2    20290                  United Fidelity Bank, fsb   2015-01-23   \n",
        " 3    17557                             First NBC Bank   2015-01-16   \n",
        " 4    34983                                  BankVista   2014-12-19   \n",
        " 5    34738          Bank of Southern California, N.A.   2014-11-07   \n",
        " 6      916                        State Bank of Texas   2014-10-24   \n",
        " 7     4862                                Howard Bank   2014-10-17   \n",
        " 8    28462                       Providence Bank, LLC   2014-07-25   \n",
        " 9    58125                  Community & Southern Bank   2014-07-18   \n",
        " 10   12483            Alva State Bank & Trust Company   2014-06-27   \n",
        " 11   21793        Landmark Bank, National Association   2014-06-20   \n",
        " 12   10450                        Great Southern Bank   2014-06-20   \n",
        " 13   32368                              Bay Bank, FSB   2014-05-30   \n",
        " 14   32284                  United Fidelity Bank, fsb   2014-05-23   \n",
        " 15   57866                   Republic Bank of Chicago   2014-05-16   \n",
        " 16   15062                        Palmetto State Bank   2014-04-25   \n",
        " 17   58531                          First Choice Bank   2014-02-28   \n",
        " 18   35096                       WashingtonFirst Bank   2014-02-28   \n",
        " 19   34296                               Sunwest Bank   2014-01-31   \n",
        " 20   17967                                  BancFirst   2014-01-24   \n",
        " 21    5732                   Republic Bank of Chicago   2014-01-17   \n",
        " 22   57431                  Spirit of Texas Bank, SSB   2013-12-13   \n",
        " 23   14794              First Federal Bank of Florida   2013-10-30   \n",
        " 24   14318                         PlainsCapital Bank   2013-09-13   \n",
        " 25   57041                                No Acquirer   2013-09-13   \n",
        " 26   34707  First Fidelity Bank, National Association   2013-08-23   \n",
        " 27   19849                            CB&S Bank, Inc.   2013-08-23   \n",
        " 28   35016                      Nicolet National Bank   2013-08-09   \n",
        " 29   34943                                    C1 Bank   2013-08-02   \n",
        " ..     ...                                        ...          ...   \n",
        " 508  33901             Pulaski Bank and Trust Company   2008-05-09   \n",
        " 509   1971                              Security Bank   2008-03-07   \n",
        " 510  24660             Liberty Bank and Trust Company   2008-01-25   \n",
        " 511  16848               The Citizens Banking Company   2007-10-04   \n",
        " 512  32575                                 ING DIRECT   2007-09-28   \n",
        " 513  35353        Allegheny Valley Bank of Pittsburgh   2007-02-02   \n",
        " 514   1249                              Far West Bank   2004-06-25   \n",
        " 515  26778                           Union State Bank   2004-03-19   \n",
        " 516  26838                    Hancock Bank of Florida   2004-03-12   \n",
        " 517  31330                                No Acquirer   2004-02-14   \n",
        " 518  27203                             Earthstar Bank   2003-11-14   \n",
        " 519  11639                              The Park Bank   2003-05-09   \n",
        " 520  27094                                  Beal Bank   2003-02-07   \n",
        " 521  16445                  Sabine State Bank & Trust   2002-12-17   \n",
        " 522   9961                                No Acquirer   2002-11-08   \n",
        " 523  33784                                No Acquirer   2002-09-30   \n",
        " 524  29355                     Chicago Community Bank   2002-06-27   \n",
        " 525  19183                         Hudson United Bank   2002-06-26   \n",
        " 526  34979                                No Acquirer   2002-03-28   \n",
        " 527  26652                             Bank Leumi USA   2002-03-01   \n",
        " 528  22314                                No Acquirer   2002-02-07   \n",
        " 529   8966             The State Bank & Trust Company   2002-02-01   \n",
        " 530  22002           The Security State Bank of Pecos   2002-01-18   \n",
        " 531  24382           Israel Discount Bank of New York   2002-01-11   \n",
        " 532  34248                         Delta Trust & Bank   2001-09-07   \n",
        " 533  32646                      Superior Federal, FSB   2001-07-27   \n",
        " 534   6629                          North Valley Bank   2001-05-03   \n",
        " 535  34264        Southern New Hampshire Bank & Trust   2001-02-02   \n",
        " 536   3815                    Banterra Bank of Marion   2000-12-14   \n",
        " 537  21029                         Bank of the Orient   2000-10-13   \n",
        " \n",
        "     Updated Date Loss Share Type Agreement Terminated Termination Date  \n",
        " 0     2015-03-05             NaN                  NaN              NaT  \n",
        " 1     2015-03-05            none                  NaN              NaT  \n",
        " 2     2015-02-11            none                  NaN              NaT  \n",
        " 3     2015-02-11            none                  NaN              NaT  \n",
        " 4     2015-02-04            none                  NaN              NaT  \n",
        " 5     2015-02-04            none                  NaN              NaT  \n",
        " 6     2015-02-04            none                  NaN              NaT  \n",
        " 7     2015-02-04            none                  NaN              NaT  \n",
        " 8     2015-01-05            none                  NaN              NaT  \n",
        " 9     2015-01-05            none                  NaN              NaT  \n",
        " 10    2014-07-18            none                  NaN              NaT  \n",
        " 11    2014-07-28            none                  NaN              NaT  \n",
        " 12    2014-07-28            none                  NaN              NaT  \n",
        " 13    2014-07-18            none                  NaN              NaT  \n",
        " 14    2014-07-18            none                  NaN              NaT  \n",
        " 15    2014-07-18            none                  NaN              NaT  \n",
        " 16    2014-07-18            none                  NaN              NaT  \n",
        " 17    2015-03-03            none                  NaN              NaT  \n",
        " 18    2015-03-03            none                  NaN              NaT  \n",
        " 19    2015-02-19            none                  NaN              NaT  \n",
        " 20    2015-02-19            none                  NaN              NaT  \n",
        " 21    2015-02-19            none                  NaN              NaT  \n",
        " 22    2014-12-29            none                  NaN              NaT  \n",
        " 23    2014-11-05            none                  NaN              NaT  \n",
        " 24    2014-09-12         SFR/NSF                  NaN              NaT  \n",
        " 25    2013-12-20            none                  NaN              NaT  \n",
        " 26    2014-09-12            none                  NaN              NaT  \n",
        " 27    2014-09-12            none                  NaN              NaT  \n",
        " 28    2013-10-24            none                  NaN              NaT  \n",
        " 29    2014-08-04            none                  NaN              NaT  \n",
        " ..           ...             ...                  ...              ...  \n",
        " 508   2012-08-28            none                  NaN              NaT  \n",
        " 509   2012-08-28            none                  NaN              NaT  \n",
        " 510   2012-10-26            none                  NaN              NaT  \n",
        " 511   2012-08-28            none                  NaN              NaT  \n",
        " 512   2012-08-28            none                  NaN              NaT  \n",
        " 513   2010-10-27            none                  NaN              NaT  \n",
        " 514   2008-04-09            none                  NaN              NaT  \n",
        " 515   2008-04-09            none                  NaN              NaT  \n",
        " 516   2012-06-05            none                  NaN              NaT  \n",
        " 517   2008-04-09            none                  NaN              NaT  \n",
        " 518   2005-07-22            none                  NaN              NaT  \n",
        " 519   2012-06-05            none                  NaN              NaT  \n",
        " 520   2008-10-20            none                  NaN              NaT  \n",
        " 521   2004-10-20            none                  NaN              NaT  \n",
        " 522   2005-03-18            none                  NaN              NaT  \n",
        " 523   2006-09-11            none                  NaN              NaT  \n",
        " 524   2008-04-09            none                  NaN              NaT  \n",
        " 525   2012-02-14            none                  NaN              NaT  \n",
        " 526   2005-03-18            none                  NaN              NaT  \n",
        " 527   2008-04-09            none                  NaN              NaT  \n",
        " 528   2015-02-05            none                  NaN              NaT  \n",
        " 529   2012-10-25            none                  NaN              NaT  \n",
        " 530   2003-11-06            none                  NaN              NaT  \n",
        " 531   2012-06-05            none                  NaN              NaT  \n",
        " 532   2004-02-10            none                  NaN              NaT  \n",
        " 533   2014-08-19            none                  NaN              NaT  \n",
        " 534   2002-11-18            none                  NaN              NaT  \n",
        " 535   2003-02-18            none                  NaN              NaT  \n",
        " 536   2005-03-17            none                  NaN              NaT  \n",
        " 537   2005-03-17            none                  NaN              NaT  \n",
        " \n",
        " [538 rows x 10 columns]]"
       ]
      }
     ],
     "prompt_number": 5
    },
    {
     "cell_type": "code",
     "collapsed": false,
     "input": [
      "df1 = dfs[0]"
     ],
     "language": "python",
     "metadata": {},
     "outputs": [],
     "prompt_number": 6
    },
    {
     "cell_type": "code",
     "collapsed": false,
     "input": [
      "type(df1)"
     ],
     "language": "python",
     "metadata": {},
     "outputs": [
      {
       "metadata": {},
       "output_type": "pyout",
       "prompt_number": 7,
       "text": [
        "pandas.core.frame.DataFrame"
       ]
      }
     ],
     "prompt_number": 7
    },
    {
     "cell_type": "code",
     "collapsed": false,
     "input": [
      "cities = df1['City']\n",
      "cities"
     ],
     "language": "python",
     "metadata": {},
     "outputs": [
      {
       "metadata": {},
       "output_type": "pyout",
       "prompt_number": 9,
       "text": [
        "0            San Juan\n",
        "1             Atlanta\n",
        "2             Chicago\n",
        "3           Crestview\n",
        "4             Mankato\n",
        "5         Palm Desert\n",
        "6             Chicago\n",
        "7          Rising Sun\n",
        "8             Chicago\n",
        "9             Conyers\n",
        "10            Freedom\n",
        "11    Fort Lauderdale\n",
        "12             Moline\n",
        "13            Bel Air\n",
        "14         Cincinnati\n",
        "...\n",
        "523            Atlanta\n",
        "524            Chicago\n",
        "525           Stamford\n",
        "526    Shelby Township\n",
        "527         Boca Raton\n",
        "528            Phoenix\n",
        "529            Oakwood\n",
        "530      Sierra Blanca\n",
        "531              Miami\n",
        "532           Gravette\n",
        "533           Hinsdale\n",
        "534              Malta\n",
        "535         Manchester\n",
        "536         Metropolis\n",
        "537           Honolulu\n",
        "Name: City, Length: 538, dtype: object"
       ]
      }
     ],
     "prompt_number": 9
    },
    {
     "cell_type": "code",
     "collapsed": false,
     "input": [
      "len(cities)"
     ],
     "language": "python",
     "metadata": {},
     "outputs": [
      {
       "metadata": {},
       "output_type": "pyout",
       "prompt_number": 10,
       "text": [
        "538"
       ]
      }
     ],
     "prompt_number": 10
    },
    {
     "cell_type": "code",
     "collapsed": false,
     "input": [
      "len(cities.unique())"
     ],
     "language": "python",
     "metadata": {},
     "outputs": [
      {
       "metadata": {},
       "output_type": "pyout",
       "prompt_number": 11,
       "text": [
        "417"
       ]
      }
     ],
     "prompt_number": 11
    },
    {
     "cell_type": "code",
     "collapsed": false,
     "input": [],
     "language": "python",
     "metadata": {},
     "outputs": []
    }
   ],
   "metadata": {}
  }
 ]
}