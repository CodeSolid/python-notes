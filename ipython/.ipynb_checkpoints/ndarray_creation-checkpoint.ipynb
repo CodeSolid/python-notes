{
 "metadata": {
  "name": "",
  "signature": "sha256:9c521dbddd057198d01b795f87a4389b7037dca5b3a641615cbacddead633a1b"
 },
 "nbformat": 3,
 "nbformat_minor": 0,
 "worksheets": [
  {
   "cells": [
    {
     "cell_type": "markdown",
     "metadata": {},
     "source": [
      "# Creating numpy ndarrays\n",
      "Numpy's ndarrays support a variety of methods for creating arrays.  This notebook just shows some examples.\n",
      "\n",
      "First we import numpy in the standard way:"
     ]
    },
    {
     "cell_type": "code",
     "collapsed": false,
     "input": [
      "import numpy as np"
     ],
     "language": "python",
     "metadata": {},
     "outputs": [],
     "prompt_number": 1
    },
    {
     "cell_type": "code",
     "collapsed": false,
     "input": [
      "# To get an array from a list, make sure you do this:\n",
      "five = np.array([1,2,3,4,5])\n",
      "five"
     ],
     "language": "python",
     "metadata": {},
     "outputs": [
      {
       "metadata": {},
       "output_type": "pyout",
       "prompt_number": 4,
       "text": [
        "array([1, 2, 3, 4, 5])"
       ]
      }
     ],
     "prompt_number": 4
    },
    {
     "cell_type": "markdown",
     "metadata": {},
     "source": [
      "If you use:\n",
      "wrong = np.*ndarray* instead, you'll end up with a list with five dimensions of length 1,2,3,4,5\n",
      "This is likely not what you wanted here and is a low-level method that may initialize to garbage values. You should likely use zeros or empty instead to initialize the list as you want it.  For more see np.ndarray?, below."
     ]
    },
    {
     "cell_type": "code",
     "collapsed": false,
     "input": [
      "np.zeros?"
     ],
     "language": "python",
     "metadata": {},
     "outputs": [],
     "prompt_number": 22
    },
    {
     "cell_type": "code",
     "collapsed": false,
     "input": [
      "# So again, this is wrong:\n",
      "wrong = np.ndarray([1,2,3,4,5])\n",
      "wrong"
     ],
     "language": "python",
     "metadata": {},
     "outputs": [
      {
       "metadata": {},
       "output_type": "pyout",
       "prompt_number": 10,
       "text": [
        "array([[[[[ 0.,  0.,  0.,  0.,  0.],\n",
        "          [ 0.,  0.,  0.,  0.,  0.],\n",
        "          [ 0.,  0.,  0.,  0.,  0.],\n",
        "          [ 0.,  0.,  0.,  0.,  0.]],\n",
        "\n",
        "         [[ 0.,  0.,  0.,  0.,  0.],\n",
        "          [ 0.,  0.,  0.,  0.,  0.],\n",
        "          [ 0.,  0.,  0.,  0.,  0.],\n",
        "          [ 0.,  0.,  0.,  0.,  0.]],\n",
        "\n",
        "         [[ 0.,  0.,  0.,  0.,  0.],\n",
        "          [ 0.,  0.,  0.,  0.,  0.],\n",
        "          [ 0.,  0.,  0.,  0.,  0.],\n",
        "          [ 0.,  0.,  0.,  0.,  0.]]],\n",
        "\n",
        "\n",
        "        [[[ 0.,  0.,  0.,  0.,  0.],\n",
        "          [ 0.,  0.,  0.,  0.,  0.],\n",
        "          [ 0.,  0.,  0.,  0.,  0.],\n",
        "          [ 0.,  0.,  0.,  0.,  0.]],\n",
        "\n",
        "         [[ 0.,  0.,  0.,  0.,  0.],\n",
        "          [ 0.,  0.,  0.,  0.,  0.],\n",
        "          [ 0.,  0.,  0.,  0.,  0.],\n",
        "          [ 0.,  0.,  0.,  0.,  0.]],\n",
        "\n",
        "         [[ 0.,  0.,  0.,  0.,  0.],\n",
        "          [ 0.,  0.,  0.,  0.,  0.],\n",
        "          [ 0.,  0.,  0.,  0.,  0.],\n",
        "          [ 0.,  0.,  0.,  0.,  0.]]]]])"
       ]
      }
     ],
     "prompt_number": 10
    },
    {
     "cell_type": "code",
     "collapsed": false,
     "input": [
      "# Better:\n",
      "\n",
      "twoByThree = np.zeros([2,3])\n",
      "twoByThree"
     ],
     "language": "python",
     "metadata": {},
     "outputs": [
      {
       "metadata": {},
       "output_type": "pyout",
       "prompt_number": 21,
       "text": [
        "array([[ 0.,  0.,  0.],\n",
        "       [ 0.,  0.,  0.]])"
       ]
      }
     ],
     "prompt_number": 21
    },
    {
     "cell_type": "code",
     "collapsed": false,
     "input": [
      "# Also good:\n",
      "\n",
      "empty = np.empty([2,3])\n",
      "empty"
     ],
     "language": "python",
     "metadata": {},
     "outputs": [
      {
       "metadata": {},
       "output_type": "pyout",
       "prompt_number": 20,
       "text": [
        "array([[ 0.,  0.,  0.],\n",
        "       [ 0.,  0.,  0.]])"
       ]
      }
     ],
     "prompt_number": 20
    },
    {
     "cell_type": "code",
     "collapsed": false,
     "input": [
      "# For ones:"
     ],
     "language": "python",
     "metadata": {},
     "outputs": [],
     "prompt_number": 23
    },
    {
     "cell_type": "code",
     "collapsed": false,
     "input": [
      "oneDimensionalArrayOfTenOnes = np.ones(10)\n",
      "oneDimensionalArrayOfTenOnes"
     ],
     "language": "python",
     "metadata": {},
     "outputs": [
      {
       "metadata": {},
       "output_type": "pyout",
       "prompt_number": 25,
       "text": [
        "array([ 5.,  5.,  5.,  5.,  5.,  5.,  5.,  5.,  5.,  5.])"
       ]
      }
     ],
     "prompt_number": 25
    },
    {
     "cell_type": "code",
     "collapsed": false,
     "input": [
      "# Make those fives, please, I need more money\n",
      "fives = oneDimensionalArrayOfTenOnes * 5\n",
      "fives"
     ],
     "language": "python",
     "metadata": {},
     "outputs": []
    },
    {
     "cell_type": "markdown",
     "metadata": {},
     "source": [
      "##Python ranges, standard and ndarray style"
     ]
    },
    {
     "cell_type": "code",
     "collapsed": false,
     "input": [
      "# Range 2-9, (excludes last value)\n",
      "alist = range(2,10)\n",
      "alist"
     ],
     "language": "python",
     "metadata": {},
     "outputs": [
      {
       "metadata": {},
       "output_type": "pyout",
       "prompt_number": 38,
       "text": [
        "[2, 3, 4, 5, 6, 7, 8, 9]"
       ]
      }
     ],
     "prompt_number": 38
    },
    {
     "cell_type": "code",
     "collapsed": false,
     "input": [
      "# Range 0-9\n",
      "alist2 = range(10)\n",
      "alist2"
     ],
     "language": "python",
     "metadata": {},
     "outputs": [
      {
       "metadata": {},
       "output_type": "pyout",
       "prompt_number": 39,
       "text": [
        "[0, 1, 2, 3, 4, 5, 6, 7, 8, 9]"
       ]
      }
     ],
     "prompt_number": 39
    },
    {
     "cell_type": "code",
     "collapsed": false,
     "input": [
      "# Numpy version arange behaves similaryly,\n",
      "# 2 two through 9:\n",
      "anArray = np.arange(2,10)\n",
      "anArray"
     ],
     "language": "python",
     "metadata": {},
     "outputs": [
      {
       "metadata": {},
       "output_type": "pyout",
       "prompt_number": 43,
       "text": [
        "array([2, 3, 4, 5, 6, 7, 8, 9])"
       ]
      }
     ],
     "prompt_number": 43
    },
    {
     "cell_type": "code",
     "collapsed": false,
     "input": [
      "# 0 through 9:\n",
      "anArray2 = np.arange(10)\n",
      "anArray2"
     ],
     "language": "python",
     "metadata": {},
     "outputs": [
      {
       "metadata": {},
       "output_type": "pyout",
       "prompt_number": 47,
       "text": [
        "array([0, 1, 2, 3, 4, 5, 6, 7, 8, 9])"
       ]
      }
     ],
     "prompt_number": 47
    },
    {
     "cell_type": "code",
     "collapsed": false,
     "input": [
      "# And sure enough, it's a numpy\n",
      "type(anArray2)"
     ],
     "language": "python",
     "metadata": {},
     "outputs": [
      {
       "metadata": {},
       "output_type": "pyout",
       "prompt_number": 48,
       "text": [
        "numpy.ndarray"
       ]
      }
     ],
     "prompt_number": 48
    }
   ],
   "metadata": {}
  }
 ]
}